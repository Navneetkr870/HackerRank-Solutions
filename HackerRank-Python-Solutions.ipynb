{
 "cells": [
  {
   "cell_type": "markdown",
   "metadata": {},
   "source": [
    "# HackerRank Python Practice Problems"
   ]
  },
  {
   "cell_type": "markdown",
   "metadata": {},
   "source": [
    "## Author : Navneet Kumar"
   ]
  },
  {
   "cell_type": "markdown",
   "metadata": {},
   "source": [
    "____________________"
   ]
  },
  {
   "cell_type": "markdown",
   "metadata": {},
   "source": [
    "## 1. Triangle Quest"
   ]
  },
  {
   "cell_type": "markdown",
   "metadata": {},
   "source": [
    "https://www.hackerrank.com/challenges/python-quest-1/problem"
   ]
  },
  {
   "cell_type": "markdown",
   "metadata": {},
   "source": [
    "Solution 1: Using Strings"
   ]
  },
  {
   "cell_type": "code",
   "execution_count": 9,
   "metadata": {},
   "outputs": [
    {
     "name": "stdout",
     "output_type": "stream",
     "text": [
      "5\n",
      "1\n",
      "22\n",
      "333\n",
      "4444\n"
     ]
    }
   ],
   "source": [
    "for i in range(1,int(input())): #More than 2 lines will result in 0 score. Do not leave a blank line also\n",
    "    print(str(i)*i)"
   ]
  },
  {
   "cell_type": "markdown",
   "metadata": {},
   "source": [
    "Solution 2: Using Maths"
   ]
  },
  {
   "cell_type": "code",
   "execution_count": 10,
   "metadata": {},
   "outputs": [
    {
     "name": "stdout",
     "output_type": "stream",
     "text": [
      "5\n",
      "1\n",
      "22\n",
      "333\n",
      "4444\n"
     ]
    }
   ],
   "source": [
    "for i in range(1,int(input())): #More than 2 lines will result in 0 score. Do not leave a blank line also\n",
    "    print((10**(i)//9)*i)"
   ]
  },
  {
   "cell_type": "code",
   "execution_count": 13,
   "metadata": {},
   "outputs": [
    {
     "name": "stdout",
     "output_type": "stream",
     "text": [
      "5\n",
      "1\n",
      "22\n",
      "333\n",
      "4444\n"
     ]
    }
   ],
   "source": [
    "for i in range(1,int(input())): #More than 2 lines will result in 0 score. Do not leave a blank line also\n",
    "    print(\"\".join([str(i)]*i))"
   ]
  },
  {
   "cell_type": "code",
   "execution_count": 22,
   "metadata": {},
   "outputs": [
    {
     "name": "stdout",
     "output_type": "stream",
     "text": [
      "5\n",
      "1\n",
      "22\n",
      "333\n",
      "4444\n"
     ]
    }
   ],
   "source": [
    "for i in range(1,int(input())): #More than 2 lines will result in 0 score. Do not leave a blank line also\n",
    "    print(sum(map(lambda x: i * 10**x, range(i))))"
   ]
  },
  {
   "cell_type": "code",
   "execution_count": 28,
   "metadata": {},
   "outputs": [
    {
     "name": "stdout",
     "output_type": "stream",
     "text": [
      "5\n",
      "[1]\n",
      "[2, 20]\n",
      "[3, 30, 300]\n",
      "[4, 40, 400, 4000]\n"
     ]
    }
   ],
   "source": [
    "for i in range(1,int(input())): #More than 2 lines will result in 0 score. Do not leave a blank line also\n",
    "    result = map(lambda x: i * 10**x, range(i))\n",
    "    print(list(result))"
   ]
  },
  {
   "cell_type": "markdown",
   "metadata": {},
   "source": [
    "## 2. Triangle Quest 2"
   ]
  },
  {
   "cell_type": "markdown",
   "metadata": {},
   "source": [
    "https://www.hackerrank.com/challenges/triangle-quest-2/problem"
   ]
  },
  {
   "cell_type": "code",
   "execution_count": 36,
   "metadata": {},
   "outputs": [
    {
     "name": "stdout",
     "output_type": "stream",
     "text": [
      "5\n",
      "1\n",
      "121\n",
      "12321\n",
      "1234321\n",
      "123454321\n"
     ]
    }
   ],
   "source": [
    "for i in range(1,int(input())+1): #More than 2 lines will result in 0 score. Do not leave a blank line also\n",
    "    print(((10**i-1)//9)**2)"
   ]
  },
  {
   "cell_type": "markdown",
   "metadata": {},
   "source": [
    "# 3. List Comprehensions"
   ]
  },
  {
   "cell_type": "markdown",
   "metadata": {},
   "source": [
    "https://www.hackerrank.com/challenges/list-comprehensions/problem"
   ]
  },
  {
   "cell_type": "code",
   "execution_count": 4,
   "metadata": {},
   "outputs": [
    {
     "name": "stdout",
     "output_type": "stream",
     "text": [
      "2\n",
      "2\n",
      "2\n",
      "2\n"
     ]
    }
   ],
   "source": [
    "if __name__ == '__main__':\n",
    "    x = int(input())\n",
    "    y = int(input())\n",
    "    z = int(input())\n",
    "    n = int(input())"
   ]
  },
  {
   "cell_type": "code",
   "execution_count": 24,
   "metadata": {},
   "outputs": [
    {
     "name": "stdout",
     "output_type": "stream",
     "text": [
      "[[0, 0, 0], [0, 0, 1], [0, 1, 0], [0, 1, 2], [0, 2, 1], [0, 2, 2], [1, 0, 0], [1, 0, 2], [1, 1, 1], [1, 1, 2], [1, 2, 0], [1, 2, 1], [1, 2, 2], [2, 0, 1], [2, 0, 2], [2, 1, 0], [2, 1, 1], [2, 1, 2], [2, 2, 0], [2, 2, 1], [2, 2, 2]]\n"
     ]
    }
   ],
   "source": [
    "ListOfThreeMultiples = [[i,j,k] for i in range(x+1) for j in range (y+1) for k in range (z+1) if i + j + k != n] # Multiples of 3 below 10\n",
    "print(ListOfThreeMultiples)"
   ]
  },
  {
   "cell_type": "code",
   "execution_count": 22,
   "metadata": {},
   "outputs": [
    {
     "name": "stdout",
     "output_type": "stream",
     "text": [
      "[[0, 0, 0], [0, 0, 1], [0, 1, 0], [0, 1, 2], [0, 2, 1], [0, 2, 2], [1, 0, 0], [1, 0, 2], [1, 1, 1], [1, 1, 2], [1, 2, 0], [1, 2, 1], [1, 2, 2], [2, 0, 1], [2, 0, 2], [2, 1, 0], [2, 1, 1], [2, 1, 2], [2, 2, 0], [2, 2, 1], [2, 2, 2]]\n"
     ]
    }
   ],
   "source": [
    "print ([[i,j,k] for i in range(x+1) for j in range (y+1) for k in range (z+1) if i + j + k != n]) # Multiples of 3 below 10"
   ]
  },
  {
   "cell_type": "markdown",
   "metadata": {},
   "source": [
    "# 4. Find the runner-up score (Sort)"
   ]
  },
  {
   "cell_type": "markdown",
   "metadata": {},
   "source": [
    "https://www.hackerrank.com/challenges/find-second-maximum-number-in-a-list/problem"
   ]
  },
  {
   "cell_type": "code",
   "execution_count": 25,
   "metadata": {},
   "outputs": [
    {
     "name": "stdout",
     "output_type": "stream",
     "text": [
      "5\n",
      "2 3 6 6 5\n",
      "[2, 3, 6, 6, 5]\n"
     ]
    }
   ],
   "source": [
    "if __name__ == '__main__':\n",
    "    n = int(input())\n",
    "    arr = map(int, input().split())\n",
    "    print(list(arr))"
   ]
  },
  {
   "cell_type": "markdown",
   "metadata": {},
   "source": [
    "Solution 1:"
   ]
  },
  {
   "cell_type": "code",
   "execution_count": 32,
   "metadata": {},
   "outputs": [
    {
     "name": "stdout",
     "output_type": "stream",
     "text": [
      "2\n",
      "1 2\n",
      "1\n"
     ]
    }
   ],
   "source": [
    "i = int(input())\n",
    "lis = list(map(int,input().strip().split()))[:i]\n",
    "z = max(lis)\n",
    "while max(lis) == z:\n",
    "    lis.remove(max(lis))\n",
    "\n",
    "print (max(lis))"
   ]
  },
  {
   "cell_type": "markdown",
   "metadata": {},
   "source": [
    "Solution 2: Using non duplicate sorting"
   ]
  },
  {
   "cell_type": "code",
   "execution_count": 82,
   "metadata": {},
   "outputs": [
    {
     "name": "stdout",
     "output_type": "stream",
     "text": [
      "6\n",
      "5 1 5 7 8 6\n"
     ]
    }
   ],
   "source": [
    "n = int(input())\n",
    "arr = list(map(int, input().split()))"
   ]
  },
  {
   "cell_type": "code",
   "execution_count": 38,
   "metadata": {},
   "outputs": [
    {
     "name": "stdout",
     "output_type": "stream",
     "text": [
      "The selected value is 2\n",
      "Value pushed 2\n",
      "The selected value is 3\n",
      "Value pushed 3\n",
      "The selected value is 9\n",
      "Value pushed 9\n",
      "The selected value is 8\n",
      "Value pushed 8\n",
      "The selected value is 9\n",
      "[2, 3, 9, 8]\n",
      "[9, 8, 3, 2]\n",
      "8\n"
     ]
    }
   ],
   "source": [
    "listnew=[]\n",
    "\n",
    "for i in arr:\n",
    "    print('The selected value is '+str(i))\n",
    "    if i not in listnew:\n",
    "        listnew.append(i)\n",
    "        print('Value pushed '+str(i))\n",
    "\n",
    "print(listnew)\n",
    "listnew.sort(reverse=True)\n",
    "print(listnew)\n",
    "print(listnew[1])"
   ]
  },
  {
   "cell_type": "markdown",
   "metadata": {},
   "source": [
    "Learning : Basic Sorting"
   ]
  },
  {
   "cell_type": "code",
   "execution_count": null,
   "metadata": {},
   "outputs": [],
   "source": [
    "listnew1=[None] * n\n",
    "\n",
    "listnew1[0]=arr[0]\n",
    "cnt=0\n",
    "\n",
    "print(arr)\n",
    "\n",
    "for i in arr:\n",
    "    cnt+=1\n",
    "    print('Iteration '+str(cnt)+': The selected value is '+str(i))\n",
    "    cnt1=0\n",
    "    \n",
    "    print('i = '+str(i))\n",
    "    print(listnew1[:cnt])\n",
    "    \n",
    "    for j in listnew1[:cnt-1]:\n",
    "        cnt1+=1\n",
    "        print('i = '+str(i)+' and j = '+str(j))\n",
    "        \n",
    "        if i<j:\n",
    "            counter=0\n",
    "            counter=counter+cnt\n",
    "            print('cnt1 = '+str(cnt1)+'counter = '+str(counter)+'cnt = '+str(cnt))\n",
    "            while counter>cnt1:\n",
    "                print('Entering While Statement')\n",
    "                print(listnew1)\n",
    "                print(listnew1[counter-1])\n",
    "                listnew1[counter-1]=listnew1[counter-2]\n",
    "                counter-=1\n",
    "                print(listnew1)\n",
    "            \n",
    "            listnew1[cnt1-1]=i\n",
    "            print('If part : Value pushed '+str(i)+' at position '+str(cnt))\n",
    "            print(listnew1[:cnt])\n",
    "            break\n",
    "        \n",
    "    if listnew1[cnt-1]==None :\n",
    "        listnew1[cnt-1]=i\n",
    "        print('Else part : Value pushed '+str(i)+' at position '+str(cnt))\n",
    "        print(listnew1[:cnt])"
   ]
  },
  {
   "cell_type": "markdown",
   "metadata": {},
   "source": [
    "Creating a function for above sorting :"
   ]
  },
  {
   "cell_type": "code",
   "execution_count": 94,
   "metadata": {},
   "outputs": [],
   "source": [
    "def nk_sort(n,arr):\n",
    "    listnew1=[None] * n\n",
    "    listnew1[0]=arr[0]\n",
    "    cnt=0\n",
    "\n",
    "    for i in arr:\n",
    "        cnt+=1\n",
    "        cnt1=0\n",
    "\n",
    "        for j in listnew1[:cnt-1]:\n",
    "            cnt1+=1\n",
    "\n",
    "            if i<j:\n",
    "                counter=0\n",
    "                counter=counter+cnt\n",
    "                while counter>cnt1:\n",
    "                    listnew1[counter-1]=listnew1[counter-2]\n",
    "                    counter-=1\n",
    "\n",
    "                listnew1[cnt1-1]=i\n",
    "                break\n",
    "\n",
    "        if listnew1[cnt-1]==None :\n",
    "            listnew1[cnt-1]=i\n",
    "        \n",
    "    return listnew1[:cnt]"
   ]
  },
  {
   "cell_type": "code",
   "execution_count": 95,
   "metadata": {},
   "outputs": [],
   "source": [
    "output=nk_sort(n,arr)"
   ]
  },
  {
   "cell_type": "code",
   "execution_count": 101,
   "metadata": {},
   "outputs": [
    {
     "name": "stdout",
     "output_type": "stream",
     "text": [
      "Original List : [5, 1, 5, 7, 8, 6]\n",
      "Sorted List : [1, 5, 5, 6, 7, 8]\n"
     ]
    }
   ],
   "source": [
    "print('Original List : '+str(arr))\n",
    "print('Sorted List : '+str(output))"
   ]
  },
  {
   "cell_type": "markdown",
   "metadata": {},
   "source": [
    "# 5. Nested Lists"
   ]
  },
  {
   "cell_type": "markdown",
   "metadata": {},
   "source": [
    "https://www.hackerrank.com/challenges/nested-list/problem"
   ]
  },
  {
   "cell_type": "code",
   "execution_count": 102,
   "metadata": {},
   "outputs": [
    {
     "name": "stdout",
     "output_type": "stream",
     "text": [
      "2\n",
      "Navneet\n",
      "23.56\n",
      "Abhishek\n",
      "24.52\n"
     ]
    }
   ],
   "source": [
    "if __name__ == '__main__':\n",
    "    for _ in range(int(input())):\n",
    "        name = input()\n",
    "        score = float(input())"
   ]
  },
  {
   "cell_type": "code",
   "execution_count": 103,
   "metadata": {},
   "outputs": [
    {
     "name": "stdout",
     "output_type": "stream",
     "text": [
      "2\n",
      "Nav\n",
      "23\n",
      "Abhi\n",
      "25\n",
      "Abhi\n"
     ]
    }
   ],
   "source": [
    "marksheet=[]\n",
    "scorelist=[]\n",
    "if __name__ == '__main__':\n",
    "        for _ in range(int(input())):\n",
    "                name = input()\n",
    "                score = float(input())\n",
    "                marksheet+=[[name,score]]\n",
    "                scorelist+=[score]\n",
    "        b=sorted(list(set(scorelist)))[1] \n",
    "\n",
    "        for a,c in sorted(marksheet):\n",
    "             if c==b:\n",
    "                    print(a)"
   ]
  },
  {
   "cell_type": "code",
   "execution_count": 104,
   "metadata": {},
   "outputs": [
    {
     "name": "stdout",
     "output_type": "stream",
     "text": [
      "2\n",
      "Abhi\n",
      "25\n",
      "Nav\n",
      "24\n",
      "Abhi\n"
     ]
    }
   ],
   "source": [
    "marksheet = []\n",
    "for _ in range(0,int(input())):\n",
    "    marksheet.append([input(), float(input())])\n",
    "\n",
    "second_highest = sorted(list(set([marks for name, marks in marksheet])))[1]\n",
    "print('\\n'.join([a for a,b in sorted(marksheet) if b == second_highest]))"
   ]
  },
  {
   "cell_type": "markdown",
   "metadata": {},
   "source": [
    "Learn list comprehension"
   ]
  },
  {
   "cell_type": "markdown",
   "metadata": {},
   "source": [
    "# 6. Finding the percentage"
   ]
  },
  {
   "cell_type": "markdown",
   "metadata": {},
   "source": [
    "https://www.hackerrank.com/challenges/finding-the-percentage/problem"
   ]
  },
  {
   "cell_type": "code",
   "execution_count": null,
   "metadata": {},
   "outputs": [
    {
     "name": "stdout",
     "output_type": "stream",
     "text": [
      "2\n",
      "Abhi 20 30\n"
     ]
    }
   ],
   "source": [
    "if __name__ == '__main__':\n",
    "    n = int(input())\n",
    "    marks = {}\n",
    "    for _ in range(n):\n",
    "        line = input().split()\n",
    "        name, scores = line[0], line[1:]\n",
    "        scores = map(float, scores)\n",
    "        marks[name] = scores\n",
    "\n",
    "    print('%.2f' %(sum(marks[input()])/3))"
   ]
  }
 ],
 "metadata": {
  "kernelspec": {
   "display_name": "Python 3",
   "language": "python",
   "name": "python3"
  },
  "language_info": {
   "codemirror_mode": {
    "name": "ipython",
    "version": 3
   },
   "file_extension": ".py",
   "mimetype": "text/x-python",
   "name": "python",
   "nbconvert_exporter": "python",
   "pygments_lexer": "ipython3",
   "version": "3.7.3"
  }
 },
 "nbformat": 4,
 "nbformat_minor": 2
}
